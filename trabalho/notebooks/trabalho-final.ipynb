{
 "cells": [
  {
   "cell_type": "markdown",
   "metadata": {},
   "source": [
    "# Avaliação de Aprendizagem de Máquina em Data Science/Data Analytics"
   ]
  },
  {
   "cell_type": "markdown",
   "metadata": {},
   "source": [
    "Deverá ser enviado um arquivo texto contendo os gráficos, resultados e comentários requeridos em cada item.  \n",
    "Obs. Antes de cada um dos exercícios, normalize os dados de entrada."
   ]
  },
  {
   "cell_type": "markdown",
   "metadata": {},
   "source": [
    "**Questão 1.** Considere os dados do arquivo “ex1data1.txt”. Plote os dados em um gráfico (com a biblioteca matplotlib) colocando a primeira coluna dos dados no eixo x e a segunda coluna no eixo y. Baseado na visualização\n",
    "obtida, um modelo de regressão linear seria adequado para representar esses dados?  \n",
    "Para este conjunto de dados, considere a primeira coluna dos dados como o único atributo dos indivíduos (X) e a segunda coluna é o rótulo dos mesmos (y)."
   ]
  },
  {
   "cell_type": "code",
   "execution_count": null,
   "metadata": {},
   "outputs": [],
   "source": []
  },
  {
   "cell_type": "code",
   "execution_count": null,
   "metadata": {},
   "outputs": [],
   "source": []
  },
  {
   "cell_type": "code",
   "execution_count": null,
   "metadata": {},
   "outputs": [],
   "source": []
  }
 ],
 "metadata": {
  "kernelspec": {
   "display_name": "Python 3",
   "language": "python",
   "name": "python3"
  },
  "language_info": {
   "codemirror_mode": {
    "name": "ipython",
    "version": 3
   },
   "file_extension": ".py",
   "mimetype": "text/x-python",
   "name": "python",
   "nbconvert_exporter": "python",
   "pygments_lexer": "ipython3",
   "version": "3.7.3"
  }
 },
 "nbformat": 4,
 "nbformat_minor": 2
}
